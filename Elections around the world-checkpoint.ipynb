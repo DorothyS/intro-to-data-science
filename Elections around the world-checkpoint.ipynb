{
 "cells": [
  {
   "cell_type": "code",
   "execution_count": null,
   "metadata": {
    "collapsed": true
   },
   "outputs": [],
   "source": [
    "df = pd.read_csv('http://www.parlgov.org/static/data/development-cp1252/view_election.csv', encoding='latin1')\n",
    "df['election_date'] = pd.to_datetime(df['election_date'\n",
    "])\n",
    "df['year'] = df['election_date'].dt.year\n",
    "\n",
    "df['year'].value_counts().sort_index().plot(kind='line')"
   ]
  }
 ],
 "metadata": {
  "kernelspec": {
   "display_name": "Python 3",
   "language": "python",
   "name": "python3"
  },
  "language_info": {
   "codemirror_mode": {
    "name": "ipython",
    "version": 3
   },
   "file_extension": ".py",
   "mimetype": "text/x-python",
   "name": "python",
   "nbconvert_exporter": "python",
   "pygments_lexer": "ipython3",
   "version": "3.6.2"
  }
 },
 "nbformat": 4,
 "nbformat_minor": 2
}
